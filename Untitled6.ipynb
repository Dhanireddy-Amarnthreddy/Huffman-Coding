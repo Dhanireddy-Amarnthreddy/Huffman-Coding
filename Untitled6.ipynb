{
  "nbformat": 4,
  "nbformat_minor": 0,
  "metadata": {
    "colab": {
      "name": "Untitled6.ipynb",
      "provenance": []
    },
    "kernelspec": {
      "name": "python3",
      "display_name": "Python 3"
    },
    "language_info": {
      "name": "python"
    }
  },
  "cells": [
    {
      "cell_type": "code",
      "execution_count": 2,
      "metadata": {
        "id": "P-tUvKr1aejg"
      },
      "outputs": [],
      "source": [
        "\n",
        "string = 'from robomaster import robot'\n",
        "class NodeTree(object):\n",
        "    def __init__(self, left=None, right=None): \n",
        "        self.left = left\n",
        "        self.right=right\n",
        "    def children(self):\n",
        "        return (self.left,self.right)\n",
        "    def nodes (self):\n",
        "        return (self.left,self.right)\n",
        "    def __str__(self):\n",
        "        return '%s %s' %(self.left,self.right)\n",
        "        "
      ]
    },
    {
      "cell_type": "code",
      "source": [
        "def huffman_code_tree (node, left=True, binString=''):\n",
        "    if type(node) is str:\n",
        "        return {node: binString}\n",
        "    (l, r) = node.children()\n",
        "    d = dict()\n",
        "    d.update(huffman_code_tree (l, True, binString + '0'))\n",
        "    d.update(huffman_code_tree (r, False, binString + '1'))\n",
        "    return d"
      ],
      "metadata": {
        "id": "lfVZMnigaqTq"
      },
      "execution_count": 3,
      "outputs": []
    },
    {
      "cell_type": "code",
      "source": [
        "freq = {}\n",
        "for c in string:\n",
        "    if c in freq:\n",
        "        freq[c] += 1\n",
        "    else:\n",
        "        freq[c] = 1\n",
        "freq = sorted(freq.items(), key=lambda x: x[1], reverse=True)\n",
        "nodes=freq\n"
      ],
      "metadata": {
        "id": "1MbyjlZiaxx-"
      },
      "execution_count": 4,
      "outputs": []
    },
    {
      "cell_type": "code",
      "source": [
        "while len(nodes)>1:\n",
        "    (key1,c1)=nodes[-1]\n",
        "    (key2,c2)=nodes[-2]\n",
        "    nodes = nodes[:-2]\n",
        "    node = NodeTree (key1, key2)\n",
        "    nodes.append((node,c1 + c2))\n",
        "    nodes = sorted (nodes, key=lambda x: x[1], reverse=True)\n",
        "    \n"
      ],
      "metadata": {
        "id": "VP3qknLha3nk"
      },
      "execution_count": 5,
      "outputs": []
    },
    {
      "cell_type": "code",
      "source": [
        "huffmanCode=huffman_code_tree(nodes[0][0])\n",
        "print(' Char | Huffman code ') \n",
        "print('----------------------')\n",
        "for (char, frequency) in freq:\n",
        "    print('%-4r|%12s'%(char,huffmanCode[char]))\n"
      ],
      "metadata": {
        "colab": {
          "base_uri": "https://localhost:8080/"
        },
        "id": "4XX8VMlsa_7m",
        "outputId": "74c5ff7d-7f2d-4b2e-98cb-ae41a01605a7"
      },
      "execution_count": 6,
      "outputs": [
        {
          "output_type": "stream",
          "name": "stdout",
          "text": [
            " Char | Huffman code \n",
            "----------------------\n",
            "'o' |          01\n",
            "'r' |         111\n",
            "'m' |         100\n",
            "' ' |         001\n",
            "'t' |         000\n",
            "'b' |        1011\n",
            "'f' |       11001\n",
            "'a' |       11000\n",
            "'s' |       11011\n",
            "'e' |       11010\n",
            "'i' |       10101\n",
            "'p' |       10100\n"
          ]
        }
      ]
    }
  ]
}